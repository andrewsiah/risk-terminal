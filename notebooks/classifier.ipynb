{
 "cells": [
  {
   "cell_type": "code",
   "execution_count": 2,
   "metadata": {},
   "outputs": [],
   "source": [
    "import requests\n",
    "import pandas as pd"
   ]
  },
  {
   "cell_type": "code",
   "execution_count": 8,
   "metadata": {},
   "outputs": [],
   "source": [
    "filepath = '/Users/asiah/Documents/dev/risk-terminal/output/avg_trade_size.txt'\n",
    "\n",
    "# df = pd.read_csv('/Users/asiah/Documents/dev/risk-terminal/output/avg_trade_size.txt', sep=\",\", header=None, names=[\"address\", \"avg_trade_size\"])"
   ]
  },
  {
   "cell_type": "code",
   "execution_count": 10,
   "metadata": {},
   "outputs": [
    {
     "name": "stdout",
     "output_type": "stream",
     "text": [
      "                                         Address         Value\n",
      "0     0xcacab92de53d03327c335fa618cda854b3ea7762  6.695649e+00\n",
      "1     0x2c5d7074a198f08885c2e2f6a84ba1f421623436  5.109581e+00\n",
      "2     0x52a19cb8e3660d206b49a3957bea4e21ced7cb5c  2.371287e+00\n",
      "3     0x54e6358f24927c259aaf53aa230b56e2d27b5810  2.316011e+00\n",
      "4     0x13ff4f55801b0aee129b349ef1aa2bf194a357c1  2.252862e+00\n",
      "...                                          ...           ...\n",
      "2270  0x3cd027f59071bad4736c5eaab557cdcfffc50252  1.528638e-09\n",
      "2271  0x2a51835678b2732ea7f4df601bed7fb3993d85b5  3.031159e-11\n",
      "2272  0xa71e770761690a6f9ec0634737919cf1a948e3b7  1.059870e-12\n",
      "2273  0x542973769d0778454caebcf55c2309246f0bf682  2.215660e-14\n",
      "2274  0x0d17676dfa5ae692cef29670e8eac394183b69da  1.141600e-15\n",
      "\n",
      "[2275 rows x 2 columns]\n"
     ]
    }
   ],
   "source": [
    "\n",
    "\n",
    "# read the txt file as a list of lists\n",
    "with open(filepath, \"r\") as f:\n",
    "    data_list = eval(f.read())\n",
    "\n",
    "# create a dataframe from the list\n",
    "df = pd.DataFrame(data_list, columns=[\"Address\", \"Value\"])\n",
    "\n",
    "# convert the value column to numeric type\n",
    "df[\"Value\"] = pd.to_numeric(df[\"Value\"])\n",
    "\n",
    "# print the dataframe\n",
    "print(df)"
   ]
  },
  {
   "cell_type": "code",
   "execution_count": 12,
   "metadata": {},
   "outputs": [
    {
     "name": "stdout",
     "output_type": "stream",
     "text": [
      "<class 'pandas.core.frame.DataFrame'>\n",
      "RangeIndex: 2275 entries, 0 to 2274\n",
      "Data columns (total 2 columns):\n",
      " #   Column   Non-Null Count  Dtype  \n",
      "---  ------   --------------  -----  \n",
      " 0   Address  2275 non-null   object \n",
      " 1   Value    2275 non-null   float64\n",
      "dtypes: float64(1), object(1)\n",
      "memory usage: 35.7+ KB\n"
     ]
    }
   ],
   "source": []
  },
  {
   "cell_type": "code",
   "execution_count": null,
   "metadata": {},
   "outputs": [],
   "source": []
  }
 ],
 "metadata": {
  "kernelspec": {
   "display_name": "Python 3.9.13 64-bit ('3.9.13')",
   "language": "python",
   "name": "python3"
  },
  "language_info": {
   "codemirror_mode": {
    "name": "ipython",
    "version": 3
   },
   "file_extension": ".py",
   "mimetype": "text/x-python",
   "name": "python",
   "nbconvert_exporter": "python",
   "pygments_lexer": "ipython3",
   "version": "3.9.13"
  },
  "orig_nbformat": 4,
  "vscode": {
   "interpreter": {
    "hash": "fb22496bbdce84815cfd582af090c79280aa20415fd79603077ef6b8a8445ec2"
   }
  }
 },
 "nbformat": 4,
 "nbformat_minor": 2
}
